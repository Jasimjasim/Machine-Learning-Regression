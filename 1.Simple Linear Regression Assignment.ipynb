{
 "cells": [
  {
   "cell_type": "code",
   "execution_count": null,
   "id": "1c4e1e03-7027-4e0b-aaaf-dd2b3925ed7a",
   "metadata": {},
   "outputs": [],
   "source": [
    "# pandas is a library and it contains the functions related to database\n",
    "import pandas as pd"
   ]
  },
  {
   "cell_type": "code",
   "execution_count": null,
   "id": "03609d8d-44e0-4084-8996-37f83ac0855b",
   "metadata": {},
   "outputs": [],
   "source": [
    "# salary data is  called read_csv function by pandas and assigned to variable 'dataset'\n",
    "dataset=pd.read_csv(\"salary_data.csv\")"
   ]
  },
  {
   "cell_type": "code",
   "execution_count": null,
   "id": "620f1fbe-2398-4b78-bc7d-dccbfd855268",
   "metadata": {},
   "outputs": [],
   "source": [
    "dataset"
   ]
  },
  {
   "cell_type": "code",
   "execution_count": null,
   "id": "46f69a66-1196-4896-88bc-8c865e92c551",
   "metadata": {},
   "outputs": [],
   "source": [
    "# the input data from the dataset is assigned to the variable'independent'\n",
    "independent=dataset[[\"years of experience\"]]"
   ]
  },
  {
   "cell_type": "code",
   "execution_count": null,
   "id": "2af3ab8c-046b-4721-981f-844190f600d0",
   "metadata": {},
   "outputs": [],
   "source": [
    "independent"
   ]
  },
  {
   "cell_type": "code",
   "execution_count": null,
   "id": "ea5bd92b-83fb-4859-bfab-63f99ac9a26f",
   "metadata": {},
   "outputs": [],
   "source": [
    "# output variable from the dataset is assigned to the variable'dependent'\n",
    "dependent=datasey[[\"salary\"]]"
   ]
  },
  {
   "cell_type": "code",
   "execution_count": null,
   "id": "db9e5a18-878c-4a9c-8c74-65d35b009b8a",
   "metadata": {},
   "outputs": [],
   "source": [
    "dependent"
   ]
  },
  {
   "cell_type": "code",
   "execution_count": null,
   "id": "072c05ab-d4e9-4578-ae7b-540cf89df3e4",
   "metadata": {},
   "outputs": [],
   "source": [
    "#sklearn is the function to split train and test set. we import train_test_split from modelselection on sklearn function\n",
    "from sklearn.model_selecttion import train_test_split"
   ]
  },
  {
   "cell_type": "code",
   "execution_count": null,
   "id": "567bfadb-a42f-4bad-8aad-5d7f685a73a8",
   "metadata": {},
   "outputs": [],
   "source": [
    "# train_test_split for independent,dependent with test size=0.30 and assigned these to variable name\n",
    "x_train,x_test,y_train,y_test=\"train_test_split(independent,dependent,test_size=0.30,random_state=0)\""
   ]
  },
  {
   "cell_type": "code",
   "execution_count": null,
   "id": "7ad9da79-3ac2-4253-928f-f5a1a3af196e",
   "metadata": {},
   "outputs": [],
   "source": [
    "#model creation using sklearn function\n",
    "from sklearn.linear_model import LinearRegression"
   ]
  },
  {
   "cell_type": "code",
   "execution_count": null,
   "id": "6ac3da1e-4f41-4966-b6ca-7dc83b059283",
   "metadata": {},
   "outputs": [],
   "source": [
    "# assigned the model to vaiable\n",
    "regressor=LinearRegression()"
   ]
  },
  {
   "cell_type": "code",
   "execution_count": null,
   "id": "c3e3353d-e25e-4350-90ab-d251be4abb1c",
   "metadata": {},
   "outputs": [],
   "source": [
    "# using the fuction .fit giving train set data\n",
    "regressor.fit(x_train,y_train)"
   ]
  },
  {
   "cell_type": "code",
   "execution_count": null,
   "id": "0440ed5a-b932-4598-8cb7-9969261e80b5",
   "metadata": {},
   "outputs": [],
   "source": [
    "# to check the weight\n",
    "weight=regressor.coef_"
   ]
  },
  {
   "cell_type": "code",
   "execution_count": null,
   "id": "e6aa980e-abca-4ea8-8aac-7457219ca2c8",
   "metadata": {},
   "outputs": [],
   "source": [
    "weight"
   ]
  },
  {
   "cell_type": "code",
   "execution_count": null,
   "id": "44429107-7751-49c9-a93f-5cfd15d2cdae",
   "metadata": {},
   "outputs": [],
   "source": [
    "# to check the intercept\n",
    "bais=regressor.intercept_"
   ]
  },
  {
   "cell_type": "code",
   "execution_count": null,
   "id": "fb8d2fd8-95e2-47c3-bb23-b358be3299ea",
   "metadata": {},
   "outputs": [],
   "source": [
    "bais"
   ]
  },
  {
   "cell_type": "code",
   "execution_count": null,
   "id": "16982748-b415-4535-974a-24b62e89e570",
   "metadata": {},
   "outputs": [],
   "source": [
    "y_pred=regressor.predict(x_test)"
   ]
  },
  {
   "cell_type": "code",
   "execution_count": null,
   "id": "6f475eae-6974-4694-a693-7e258ed616bd",
   "metadata": {},
   "outputs": [],
   "source": [
    "# evaluation metrics to check oru model\n",
    "from sklearn.metrics import r2_score"
   ]
  },
  {
   "cell_type": "code",
   "execution_count": null,
   "id": "27f57c67-6704-408f-a45a-c02e37b320ed",
   "metadata": {},
   "outputs": [],
   "source": [
    "# assigned the r2 to variable\n",
    "r_score=r2_score(y_test,y_pred)"
   ]
  },
  {
   "cell_type": "code",
   "execution_count": null,
   "id": "dc0cb5b6-8914-4a20-8a64-fdd916b67c1b",
   "metadata": {},
   "outputs": [],
   "source": [
    "r_score"
   ]
  },
  {
   "cell_type": "code",
   "execution_count": null,
   "id": "d2be0a46-4d0b-48c1-aa83-2b8a1c6a3053",
   "metadata": {},
   "outputs": [],
   "source": [
    "# to save the model \n",
    "import pickle"
   ]
  },
  {
   "cell_type": "code",
   "execution_count": null,
   "id": "5894f59b-6eae-4a54-af35-0f5d5626db68",
   "metadata": {},
   "outputs": [],
   "source": [
    "# naming the model\n",
    "filename=\"finalized _model_linear.sav\""
   ]
  },
  {
   "cell_type": "code",
   "execution_count": null,
   "id": "44a18d53-1b41-4200-9b97-819e24f055b0",
   "metadata": {},
   "outputs": [],
   "source": [
    "#model saved\n",
    "pickle.dump(regressor,open(filename,'Wb'))"
   ]
  },
  {
   "cell_type": "code",
   "execution_count": null,
   "id": "54be7dd5-2590-4f89-bcc1-162547fa37a8",
   "metadata": {},
   "outputs": [],
   "source": [
    "# load and check the model\n",
    "loaded_model=pickel.load(open(\"finalized_model_linear.sav\",'rb'))"
   ]
  },
  {
   "cell_type": "code",
   "execution_count": null,
   "id": "eb510f5f-bf82-4dcd-98c6-4e2ed95810fd",
   "metadata": {},
   "outputs": [],
   "source": [
    "# model assigned to variable\n",
    "result=loaded_model.predict([])"
   ]
  },
  {
   "cell_type": "code",
   "execution_count": null,
   "id": "53c3a9b3-9500-41c3-b9e0-2c4f8b201a9c",
   "metadata": {},
   "outputs": [],
   "source": [
    "result"
   ]
  },
  {
   "cell_type": "code",
   "execution_count": null,
   "id": "de5198a1-fd50-4424-8531-ef62f4f69ebf",
   "metadata": {},
   "outputs": [],
   "source": [
    "# for deployment \n",
    "import pickle "
   ]
  },
  {
   "cell_type": "code",
   "execution_count": null,
   "id": "331b59df-9495-4708-bdff-68a6a2151b22",
   "metadata": {},
   "outputs": [],
   "source": [
    "#model ready for use\n",
    "loaded_model=pickel.load(open(\"finalized_model_linear.sav\",'rb'))\n",
    "result=loaded_model.predict([[]])"
   ]
  }
 ],
 "metadata": {
  "kernelspec": {
   "display_name": "Python 3 (ipykernel)",
   "language": "python",
   "name": "python3"
  },
  "language_info": {
   "codemirror_mode": {
    "name": "ipython",
    "version": 3
   },
   "file_extension": ".py",
   "mimetype": "text/x-python",
   "name": "python",
   "nbconvert_exporter": "python",
   "pygments_lexer": "ipython3",
   "version": "3.12.7"
  }
 },
 "nbformat": 4,
 "nbformat_minor": 5
}
